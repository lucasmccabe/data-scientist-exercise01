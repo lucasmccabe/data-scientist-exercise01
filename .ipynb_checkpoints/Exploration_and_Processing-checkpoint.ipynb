{
 "cells": [
  {
   "cell_type": "code",
   "execution_count": 1,
   "metadata": {},
   "outputs": [
    {
     "name": "stderr",
     "output_type": "stream",
     "text": [
      "C:\\Users\\Lucas McCabe\\AppData\\Local\\Continuum\\anaconda3\\lib\\site-packages\\ipykernel_launcher.py:9: FutureWarning: from_csv is deprecated. Please use read_csv(...) instead. Note that some of the default arguments are different, so please refer to the documentation for from_csv when changing your function calls\n",
      "  if __name__ == '__main__':\n"
     ]
    },
    {
     "name": "stdout",
     "output_type": "stream",
     "text": [
      "Earning >$50k: 11687 individuals (23.93%)\n",
      "Earning <=$50k: 37155 individuals (76.07%)\n",
      "\n",
      "Summary of continuous variables:\n",
      "\n",
      "                age  education_num  capital_gain  capital_loss    hours_week\n",
      "count  48842.000000   48842.000000  48842.000000  48842.000000  48842.000000\n",
      "mean      38.643585      10.078089   1079.067626     87.502314     40.422382\n",
      "std       13.710510       2.570973   7452.019058    403.004552     12.391444\n",
      "min       17.000000       1.000000      0.000000      0.000000      1.000000\n",
      "25%       28.000000       9.000000      0.000000      0.000000     40.000000\n",
      "50%       37.000000      10.000000      0.000000      0.000000     40.000000\n",
      "75%       48.000000      12.000000      0.000000      0.000000     45.000000\n",
      "max       90.000000      16.000000  99999.000000   4356.000000     99.000000\n"
     ]
    }
   ],
   "source": [
    "#initial data exploration\n",
    "\n",
    "import pandas as pd\n",
    "import numpy as np\n",
    "import matplotlib.pyplot as pl\n",
    "from time import time\n",
    "%matplotlib inline\n",
    "\n",
    "records = pd.DataFrame.from_csv('records.csv')\n",
    "over_50 = records.loc[records['over_50k'] == 1] #all rows where income > $50k\n",
    "under_50 = records.loc[records['over_50k'] == 0] #all rows where income <= $50k\n",
    "\n",
    "#some general information about the dataset\n",
    "print('Earning >$50k: ' + str(over_50.shape[0]) + ' individuals (' + str('%.2f'%(100*over_50.shape[0]/(over_50.shape[0]+under_50.shape[0]))) + '%)')\n",
    "print('Earning <=$50k: ' + str(under_50.shape[0]) + ' individuals (' + str('%.2f'%(100*under_50.shape[0]/(over_50.shape[0]+under_50.shape[0]))) + '%)')\n",
    "print('\\nSummary of continuous variables:\\n')\n",
    "print(records.drop(['over_50k'], axis=1).describe()) #summary statistics for each continuous variable"
   ]
  },
  {
   "cell_type": "markdown",
   "metadata": {},
   "source": [
    "Roughly 24% of the data set is made up of individuals earning greater than \\$50,000, and roughly 76% of the data is made up of individuals earning less than or equal to \\$50,000. The means, standard deviations, and quartiles of the capital gain and capital loss variables indicate to me that the variables are heavily skewed, but I will verify this below. At least half the individuals in the dataset work for 40-45 hours per week, so I doubt over_50k will be strongly correlated to hours worked."
   ]
  },
  {
   "cell_type": "code",
   "execution_count": 2,
   "metadata": {},
   "outputs": [
    {
     "name": "stdout",
     "output_type": "stream",
     "text": [
      "Skewness of continuous variables:\n",
      "\n",
      "age               0.557580\n",
      "education_num    -0.316525\n",
      "capital_gain     11.894659\n",
      "capital_loss      4.569809\n",
      "hours_week        0.238750\n",
      "over_50k          1.222216\n",
      "dtype: float64\n",
      "\n",
      "Number of instances of both non-zero capital gain and capital loss: 0\n"
     ]
    }
   ],
   "source": [
    "#obervations re: capital gain/loss\n",
    "print('Skewness of continuous variables:\\n')\n",
    "print(records.skew())\n",
    "\n",
    "print('\\nNumber of instances of both non-zero capital gain and capital loss: ' + str(records.loc[(records['capital_gain'] >0) & (records['capital_loss'] >0)].shape[0]))"
   ]
  },
  {
   "cell_type": "markdown",
   "metadata": {},
   "source": [
    "Capital gain and capital loss are heavily skewed variables, whereas the other continuous variables are not particularly skewed. They are also mutually-exclusive in that there are zero instances of both non-zero capital gain and capital loss. For this reason, I think it would be a good idea to consolidate the two variables into one variable representing the net capital gain/loss."
   ]
  },
  {
   "cell_type": "code",
   "execution_count": 3,
   "metadata": {},
   "outputs": [
    {
     "name": "stdout",
     "output_type": "stream",
     "text": [
      "\n",
      "Skewness of continuous variables:\n",
      "\n",
      "age               0.557580\n",
      "education_num    -0.316525\n",
      "hours_week        0.238750\n",
      "delta_capital    11.814939\n",
      "over_50k          1.222216\n",
      "dtype: float64\n"
     ]
    }
   ],
   "source": [
    "records['delta_capital'] = records['capital_gain'] - records['capital_loss'] #create net capital gain/loss variable\n",
    "records.drop('capital_gain', axis=1, inplace=True) #we don't need this anymore\n",
    "records.drop('capital_loss', axis=1, inplace=True) #we don't need this anymore\n",
    "\n",
    "#now over_50k is no longer the rightmost column, so I'm going to swap it with the delta_capital column\n",
    "cols = list(records)\n",
    "cols[11], cols[12] = cols[12], cols[11]\n",
    "records = records.loc[:, cols]\n",
    "\n",
    "print('\\nSkewness of continuous variables:\\n')\n",
    "print(records.skew())\n"
   ]
  },
  {
   "cell_type": "markdown",
   "metadata": {},
   "source": [
    "Predictably, the delta_capital variable is heavily skewed. I'd like to use a logarithmic transformation so that particularly high or low values don't interfere with training the model."
   ]
  },
  {
   "cell_type": "code",
   "execution_count": 92,
   "metadata": {
    "collapsed": true
   },
   "outputs": [],
   "source": [
    "records['delta_capital'] = records['delta_capital'].apply(lambda i: np.log(i+1))"
   ]
  },
  {
   "cell_type": "raw",
   "metadata": {},
   "source": []
  },
  {
   "cell_type": "code",
   "execution_count": 4,
   "metadata": {},
   "outputs": [
    {
     "name": "stdout",
     "output_type": "stream",
     "text": [
      "                age  education_num    hours_week  delta_capital      over_50k\n",
      "count  48842.000000   48842.000000  48842.000000   48842.000000  48842.000000\n",
      "mean      38.643585      10.078089     40.422382     991.565313      0.239282\n",
      "std       13.710510       2.570973     12.391444    7475.549906      0.426649\n",
      "min       17.000000       1.000000      1.000000   -4356.000000      0.000000\n",
      "25%       28.000000       9.000000     40.000000       0.000000      0.000000\n",
      "50%       37.000000      10.000000     40.000000       0.000000      0.000000\n",
      "75%       48.000000      12.000000     45.000000       0.000000      0.000000\n",
      "max       90.000000      16.000000     99.000000   99999.000000      1.000000\n"
     ]
    }
   ],
   "source": [
    "print(records.describe())"
   ]
  },
  {
   "cell_type": "code",
   "execution_count": null,
   "metadata": {
    "collapsed": true
   },
   "outputs": [],
   "source": []
  },
  {
   "cell_type": "code",
   "execution_count": null,
   "metadata": {
    "collapsed": true
   },
   "outputs": [],
   "source": []
  }
 ],
 "metadata": {
  "kernelspec": {
   "display_name": "Python 3",
   "language": "python",
   "name": "python3"
  },
  "language_info": {
   "codemirror_mode": {
    "name": "ipython",
    "version": 3
   },
   "file_extension": ".py",
   "mimetype": "text/x-python",
   "name": "python",
   "nbconvert_exporter": "python",
   "pygments_lexer": "ipython3",
   "version": "3.6.3"
  }
 },
 "nbformat": 4,
 "nbformat_minor": 2
}
